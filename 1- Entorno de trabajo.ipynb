{
 "cells": [
  {
   "cell_type": "markdown",
   "id": "64634e25",
   "metadata": {},
   "source": [
    "# 1. Entorno de trabajo: Jupyter y Python"
   ]
  },
  {
   "cell_type": "markdown",
   "id": "15d6aaa0",
   "metadata": {},
   "source": [
    "## 1.1 ¿Qué es _Jupyter_?"
   ]
  },
  {
   "cell_type": "markdown",
   "id": "61c423a8",
   "metadata": {},
   "source": [
    "- El proyecto _Jupyter_ (https://jupyter.org/) busca facilitar el análisis de datos interactivo para apoyar los/las científicos/as de datos.\n",
    "\n",
    "\n",
    "- Uno de los softwares desarrollado se llama _Jupyter Notebook_. Es una aplicación que funciona en un navegador web y que permite analizar datos de manera interactiva.\n",
    "\n",
    "\n",
    "- Un _notebook_ es un conjunto de celdas, para estructurar un documento (\"Markdown\") o de código (\"Code\").\n"
   ]
  },
  {
   "cell_type": "markdown",
   "id": "53edb2af",
   "metadata": {},
   "source": [
    "La celda siguiente es un ejemplo de celda \"Markdown\":"
   ]
  },
  {
   "cell_type": "markdown",
   "id": "3c2ee10c",
   "metadata": {},
   "source": [
    "1+1"
   ]
  },
  {
   "cell_type": "markdown",
   "id": "3599c7e6",
   "metadata": {},
   "source": [
    "La celda siguiente es un ejemplo de celda \"Code\":"
   ]
  },
  {
   "cell_type": "code",
   "execution_count": null,
   "id": "3de0b667",
   "metadata": {},
   "outputs": [],
   "source": [
    "1+1"
   ]
  },
  {
   "cell_type": "code",
   "execution_count": null,
   "id": "ffd88dfd",
   "metadata": {},
   "outputs": [],
   "source": [
    "3+2"
   ]
  },
  {
   "cell_type": "markdown",
   "id": "fbc6aa60",
   "metadata": {},
   "source": [
    "- Las celdas de tipo \"Code\" permiten ejecutar un código en un lenguaje de programación (en nuestro caso: Python). \n",
    "\n",
    "\n",
    "- Las celdas de código pueden enviar un resultado de salida (texto, imágen, gráfico, tabla, etc.). \n",
    "\n",
    "\n",
    "- Se puede añadir o suprimir celdas."
   ]
  },
  {
   "cell_type": "markdown",
   "id": "16ccfff3",
   "metadata": {},
   "source": [
    "## 1.2 ¿Qué es _Python_?"
   ]
  },
  {
   "cell_type": "markdown",
   "id": "9c568e88",
   "metadata": {},
   "source": [
    "- Python (https://www.python.org/) es un lenguaje de programación muy utilizado por la comunidad cientifica. Tiene muchas _librerias_ para facilitar la recopilación y el análisis de datos.\n",
    "\n",
    "\n",
    "- En informática, una _librería_ es un código desarrollado por otras personas que se puede instalar y re-utilizar.\n",
    "\n",
    "\n",
    "- Una alternativa a Python, es el lenguaje R. Sin embargo en esta asignatura utilizaremos solamente a Python, en su versión 3.\n",
    "\n",
    "La celda siguiente permite saber qué version (-V) de python está utilizada por su computador."
   ]
  },
  {
   "cell_type": "code",
   "execution_count": 1,
   "id": "46296564",
   "metadata": {},
   "outputs": [
    {
     "name": "stdout",
     "output_type": "stream",
     "text": [
      "Python 3.8.10\r\n"
     ]
    }
   ],
   "source": [
    "!python -V"
   ]
  },
  {
   "cell_type": "markdown",
   "id": "58b2ccd2",
   "metadata": {},
   "source": [
    "- El objetivo de la asignatura no es aprender a programar en Python, sino lograr utilizar Python con un nivel de comprensión suficiente para poder reproducir ciertos análisis de datos de forma autónoma.\n",
    "\n",
    "\n",
    "- Existen muchos libros y recursos online para aprender Python de forma más completa. Por ejemplo: https://docs.python.org/es/3/tutorial/\n",
    "\n",
    "\n",
    "A continuación, solamente mostraremos algunos conceptos claves.\n"
   ]
  },
  {
   "cell_type": "markdown",
   "id": "7fa16402",
   "metadata": {},
   "source": [
    "### 1.2.1 Las variables\n",
    "\n",
    "En programación, las __variables__ permiten guardar un valor. En particular, una variable puede tener como valor:\n",
    "- un número\n",
    "- una cadena de caracteres\n",
    "- una lista\n",
    "\n",
    "Podemos nombrar las variables como queremos pero se recomienda elegir nombres relevantes."
   ]
  },
  {
   "cell_type": "code",
   "execution_count": 2,
   "id": "cae23776",
   "metadata": {},
   "outputs": [],
   "source": [
    "text = \"en pequeño texto que se guarda en una variable nombrada text\"\n",
    "num = 10\n",
    "un_ejemplo_de_lista = [2, 5, 7]"
   ]
  },
  {
   "cell_type": "markdown",
   "id": "e104137f",
   "metadata": {},
   "source": [
    "Podemos imprimir el contenido de una variable con la función print()."
   ]
  },
  {
   "cell_type": "code",
   "execution_count": 3,
   "id": "ca185855",
   "metadata": {},
   "outputs": [
    {
     "name": "stdout",
     "output_type": "stream",
     "text": [
      "en pequeño texto que se guarda en una variable nombrada text\n",
      "10\n",
      "[2, 5, 7]\n"
     ]
    }
   ],
   "source": [
    "print(text)\n",
    "print(num)\n",
    "print(un_ejemplo_de_lista)"
   ]
  },
  {
   "cell_type": "markdown",
   "id": "d06e5587",
   "metadata": {},
   "source": [
    "Podemos observar que las variables \"text\", \"num\", \"un_exemplo_de_lista\" siguen siendo utilizadas desde otra celda. \n",
    "\n",
    "Para acceder a un elemento particular de una lista, se indica el número del elemento que se desea (empezando por 0):"
   ]
  },
  {
   "cell_type": "code",
   "execution_count": 5,
   "id": "b4e8b4cd",
   "metadata": {},
   "outputs": [
    {
     "data": {
      "text/plain": [
       "5"
      ]
     },
     "execution_count": 5,
     "metadata": {},
     "output_type": "execute_result"
    }
   ],
   "source": [
    "un_ejemplo_de_lista[1]"
   ]
  },
  {
   "cell_type": "markdown",
   "id": "bd2a486f",
   "metadata": {},
   "source": [
    "### 1.2.2 Las funciones\n",
    "\n",
    "En programación, las __funciones__ son porciones de código que podemos ejecutar \"llamandolas\" por su nombre. \n",
    "\n",
    "- En Python, las funciones se reconocen porque tienen parentesis --> print().\n",
    "\n",
    "- En las parentesis ciertas funciones aceptan parámetros.\n",
    "\n",
    "Por ejemplo:\n",
    "- \"print()\" es una función pre-existente en Python que sirve para mostrar el contenido de la variable que se pone en parámetro.\n",
    "- \"len()\" es una función que sirve para saber el tamaño (\"length\") de una variable."
   ]
  },
  {
   "cell_type": "code",
   "execution_count": 6,
   "id": "ddb767a0",
   "metadata": {},
   "outputs": [
    {
     "data": {
      "text/plain": [
       "60"
      ]
     },
     "execution_count": 6,
     "metadata": {},
     "output_type": "execute_result"
    }
   ],
   "source": [
    "len(text)"
   ]
  },
  {
   "cell_type": "code",
   "execution_count": 7,
   "id": "6e63d3e1",
   "metadata": {},
   "outputs": [
    {
     "data": {
      "text/plain": [
       "3"
      ]
     },
     "execution_count": 7,
     "metadata": {},
     "output_type": "execute_result"
    }
   ],
   "source": [
    "len(un_ejemplo_de_lista)"
   ]
  },
  {
   "cell_type": "markdown",
   "id": "c2fbe2ec",
   "metadata": {},
   "source": [
    "Tambien podemos crear nuestras propias funciones. Por ejemplo:"
   ]
  },
  {
   "cell_type": "code",
   "execution_count": 8,
   "id": "76291ed1",
   "metadata": {},
   "outputs": [],
   "source": [
    "def multiplicar(a,b):\n",
    "    resultado=a*b\n",
    "    print(\"El resultado de la multiplicación es:\")\n",
    "    print(resultado)"
   ]
  },
  {
   "cell_type": "code",
   "execution_count": 9,
   "id": "da86bfc2",
   "metadata": {},
   "outputs": [
    {
     "name": "stdout",
     "output_type": "stream",
     "text": [
      "El resultado de la multiplicación es:\n",
      "8\n"
     ]
    }
   ],
   "source": [
    "multiplicar(4,2)"
   ]
  },
  {
   "cell_type": "markdown",
   "id": "44ecffec",
   "metadata": {},
   "source": [
    "### 1.2.3 Las bocles\n",
    "\n",
    "En programacion, a menudo queremos repetir unas instrucciones un cierto número de veces. Por ejemplo, para analizar 1.000 textos, no queremos repetir 1.000 veces las instrucciones.\n",
    "\n",
    "- Las bocles permiten repetir instrucciones."
   ]
  },
  {
   "cell_type": "code",
   "execution_count": 21,
   "id": "9e07f1a2",
   "metadata": {},
   "outputs": [
    {
     "data": {
      "text/plain": [
       "range(0, 5)"
      ]
     },
     "execution_count": 21,
     "metadata": {},
     "output_type": "execute_result"
    }
   ],
   "source": [
    "range(5)"
   ]
  },
  {
   "cell_type": "code",
   "execution_count": 14,
   "id": "878b05dd",
   "metadata": {},
   "outputs": [
    {
     "name": "stdout",
     "output_type": "stream",
     "text": [
      "0\n",
      "1\n",
      "2\n",
      "3\n",
      "4\n"
     ]
    }
   ],
   "source": [
    "for i in range(5):\n",
    "    print(i)"
   ]
  },
  {
   "cell_type": "code",
   "execution_count": null,
   "id": "04b0e6d5",
   "metadata": {},
   "outputs": [],
   "source": []
  },
  {
   "cell_type": "code",
   "execution_count": 19,
   "id": "40787364",
   "metadata": {},
   "outputs": [],
   "source": [
    "mis_documentos=[\n",
    "    \"texto 1\", \"texto 2\", \"texto 3\", \"texto 4\"\n",
    "]"
   ]
  },
  {
   "cell_type": "code",
   "execution_count": 20,
   "id": "c211f476",
   "metadata": {},
   "outputs": [
    {
     "name": "stdout",
     "output_type": "stream",
     "text": [
      "texto 1\n",
      "texto 2\n",
      "texto 3\n",
      "texto 4\n"
     ]
    }
   ],
   "source": [
    "for i in range(len(mis_documentos)):\n",
    "    print(mis_documentos[i])"
   ]
  },
  {
   "cell_type": "markdown",
   "id": "09bb4933",
   "metadata": {},
   "source": [
    "### 1.2.4 Las condiciones \"IF\""
   ]
  },
  {
   "cell_type": "markdown",
   "id": "c53a6492",
   "metadata": {},
   "source": [
    "En programación, a menudo queremos realizar ciertas instrucciones solamente si se cumple cierta(s) condición(es).\n",
    "\n",
    "Por ejemplo:"
   ]
  },
  {
   "cell_type": "code",
   "execution_count": 23,
   "id": "2493e482",
   "metadata": {},
   "outputs": [
    {
     "name": "stdout",
     "output_type": "stream",
     "text": [
      "OK\n"
     ]
    }
   ],
   "source": [
    "a=3\n",
    "\n",
    "if a<5:\n",
    "    print(\"OK\")\n",
    "else:\n",
    "    print(\"NOT OK\")"
   ]
  },
  {
   "cell_type": "markdown",
   "id": "f8e2a0dc",
   "metadata": {},
   "source": [
    "## 1.3 Espacio de pruebas y ejercicios"
   ]
  },
  {
   "cell_type": "markdown",
   "id": "070e2d78",
   "metadata": {},
   "source": [
    "- crear una variable de tipo \"cadena de caracteres\" y calcular su tamaño."
   ]
  },
  {
   "cell_type": "code",
   "execution_count": 26,
   "id": "03a66eb2",
   "metadata": {},
   "outputs": [
    {
     "data": {
      "text/plain": [
       "4"
      ]
     },
     "execution_count": 26,
     "metadata": {},
     "output_type": "execute_result"
    }
   ],
   "source": [
    "titular=\"hola\"\n",
    "len(titular)"
   ]
  },
  {
   "cell_type": "markdown",
   "id": "68daaeba",
   "metadata": {},
   "source": [
    "- Añadir un elemento a una lista existente:"
   ]
  },
  {
   "cell_type": "code",
   "execution_count": null,
   "id": "fa8755da",
   "metadata": {},
   "outputs": [],
   "source": [
    "text = \"text 4\"\n",
    "mis_documentos.append(text)"
   ]
  },
  {
   "cell_type": "code",
   "execution_count": null,
   "id": "373fae7f",
   "metadata": {},
   "outputs": [],
   "source": [
    "print(mis_documentos)"
   ]
  },
  {
   "cell_type": "markdown",
   "id": "73d3c078",
   "metadata": {},
   "source": [
    "- a partir de una lista que contiene 4 textos, calcular el tamaño promedio de los textos"
   ]
  },
  {
   "cell_type": "code",
   "execution_count": 27,
   "id": "857e356a",
   "metadata": {},
   "outputs": [
    {
     "name": "stdout",
     "output_type": "stream",
     "text": [
      "0\n",
      "Hola\n",
      "1\n",
      "Chao\n",
      "2\n",
      "Saludos\n",
      "3\n",
      "Test\n"
     ]
    }
   ],
   "source": [
    "titulares = [\"Hola\", \"Chao\", \"Saludos\", \"Test\"]\n",
    "\n",
    "for titular in range(len(titulares)):\n",
    "    print(titular)\n",
    "    print(titulares[titular])"
   ]
  },
  {
   "cell_type": "code",
   "execution_count": 34,
   "id": "99b5f0a2",
   "metadata": {},
   "outputs": [
    {
     "name": "stdout",
     "output_type": "stream",
     "text": [
      "Hola\n",
      "4\n",
      "Chao\n",
      "8\n",
      "Saludos\n",
      "15\n",
      "Test\n",
      "19\n",
      "19\n",
      "4.75\n"
     ]
    }
   ],
   "source": [
    "suma=0\n",
    "\n",
    "for titular in titulares:\n",
    "    print(titular)\n",
    "    suma=len(titular)+suma\n",
    "    print(suma)\n",
    "\n",
    "print(suma)\n",
    "print(suma/len(titulares))"
   ]
  },
  {
   "cell_type": "code",
   "execution_count": null,
   "id": "9bb98ac4",
   "metadata": {},
   "outputs": [],
   "source": []
  }
 ],
 "metadata": {
  "kernelspec": {
   "display_name": "Python 3",
   "language": "python",
   "name": "python3"
  },
  "language_info": {
   "codemirror_mode": {
    "name": "ipython",
    "version": 3
   },
   "file_extension": ".py",
   "mimetype": "text/x-python",
   "name": "python",
   "nbconvert_exporter": "python",
   "pygments_lexer": "ipython3",
   "version": "3.8.10"
  }
 },
 "nbformat": 4,
 "nbformat_minor": 5
}
