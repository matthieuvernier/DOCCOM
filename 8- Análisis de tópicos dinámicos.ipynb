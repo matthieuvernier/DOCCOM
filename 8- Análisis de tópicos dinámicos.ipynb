{
 "cells": [
  {
   "cell_type": "markdown",
   "metadata": {},
   "source": [
    "# 8. Análisis de tópicos dinámicos\n",
    "\n",
    "## 1. Motivación\n",
    "\n",
    "El __análisis de tópicos dinámicos__ permite descubrir, a partir de los propios textos, el conjunto de tópicos que estos abordan. A diferencia del análisis de tópicos simple, permite también descubrir cómo los tópicos evolucionan en el tiempo.\n",
    "\n",
    "Por ejemplo, suponiendo que tenemos un conjunto de articulos cíentificos en el ámbito de la Física, escritos entre 1880 y 2000. Podemos aplicar un análisis de tópicos dinámicos para encontrar de qué topicos se hablan y descubrir que uno de los tópicos tiene que ver con la _Física Atómica_. El análisis de tópicos dinámicos permite descubrir además que, dentro de este tópico, hubo cambios en el lenguaje (ver Figuras).\n",
    "\n",
    "<img src=\"img/dtm1.png\"/>\n",
    "\n",
    "\n",
    "<img src=\"img/dtm2.png\"/>\n",
    "\n",
    "En este ejemplo, los datos están divididos en 13 trozos (_slices_) de 10 años.\n",
    "\n",
    "## Práctica: _¿Cómo ha evolucionado el discurso sobre el cancer en la prensa chilena entre 2010 y 2020?_\n",
    "\n",
    "Realizaremos un análisis de tópicos dinámicos sobre un dataset de noticias chilenas que contienen las palabras cancer, oncologico, oncologia, linfome, leucemia.\n"
   ]
  },
  {
   "cell_type": "markdown",
   "metadata": {},
   "source": [
    "## 2. Leer el dataset original"
   ]
  },
  {
   "cell_type": "code",
   "execution_count": 1,
   "metadata": {},
   "outputs": [],
   "source": [
    "dataset=\"data/cancer_oncologico_oncologia_linfome_leucemia.csv\""
   ]
  },
  {
   "cell_type": "code",
   "execution_count": 2,
   "metadata": {},
   "outputs": [
    {
     "data": {
      "text/html": [
       "<div>\n",
       "<style scoped>\n",
       "    .dataframe tbody tr th:only-of-type {\n",
       "        vertical-align: middle;\n",
       "    }\n",
       "\n",
       "    .dataframe tbody tr th {\n",
       "        vertical-align: top;\n",
       "    }\n",
       "\n",
       "    .dataframe thead th {\n",
       "        text-align: right;\n",
       "    }\n",
       "</style>\n",
       "<table border=\"1\" class=\"dataframe\">\n",
       "  <thead>\n",
       "    <tr style=\"text-align: right;\">\n",
       "      <th></th>\n",
       "      <th>Unnamed: 0</th>\n",
       "      <th>Unnamed: 0.1</th>\n",
       "      <th>id_news</th>\n",
       "      <th>country</th>\n",
       "      <th>media_outlet</th>\n",
       "      <th>url</th>\n",
       "      <th>title</th>\n",
       "      <th>text</th>\n",
       "      <th>date</th>\n",
       "      <th>search</th>\n",
       "    </tr>\n",
       "  </thead>\n",
       "  <tbody>\n",
       "    <tr>\n",
       "      <th>0</th>\n",
       "      <td>0</td>\n",
       "      <td>0</td>\n",
       "      <td>6379315.0</td>\n",
       "      <td>chile</td>\n",
       "      <td>elciudadano</td>\n",
       "      <td>https://www.elciudadano.com/salud/1sintomas-de...</td>\n",
       "      <td>Síntomas del cáncer que la mayoría de personas...</td>\n",
       "      <td>BBC Mundo ha recogido los  10 síntomas general...</td>\n",
       "      <td>2016-04-29</td>\n",
       "      <td>cáncer</td>\n",
       "    </tr>\n",
       "    <tr>\n",
       "      <th>1</th>\n",
       "      <td>3</td>\n",
       "      <td>3</td>\n",
       "      <td>1450993.0</td>\n",
       "      <td>chile</td>\n",
       "      <td>biobiochile</td>\n",
       "      <td>https://www.biobiochile.cl/noticias/2014/12/29...</td>\n",
       "      <td>12 señales de que podrías estar albergando un ...</td>\n",
       "      <td>El cáncer es un grupo de varias enfermedades, ...</td>\n",
       "      <td>2014-12-29</td>\n",
       "      <td>cáncer</td>\n",
       "    </tr>\n",
       "    <tr>\n",
       "      <th>2</th>\n",
       "      <td>4</td>\n",
       "      <td>4</td>\n",
       "      <td>6415265.0</td>\n",
       "      <td>chile</td>\n",
       "      <td>elciudadano</td>\n",
       "      <td>https://www.elciudadano.com/salud/los-sintomas...</td>\n",
       "      <td>Los síntomas físicos que te ayudan a detectar ...</td>\n",
       "      <td>Muchos hombres piensan erróneamente que los sí...</td>\n",
       "      <td>2015-09-15</td>\n",
       "      <td>cáncer</td>\n",
       "    </tr>\n",
       "    <tr>\n",
       "      <th>3</th>\n",
       "      <td>6</td>\n",
       "      <td>6</td>\n",
       "      <td>6276346.0</td>\n",
       "      <td>chile</td>\n",
       "      <td>latercera</td>\n",
       "      <td>https://www.latercera.com/tendencias/noticia/c...</td>\n",
       "      <td>Científicos revelan vínculo entre la diabetes ...</td>\n",
       "      <td>Una reciente aparición de diabetes tipo 2, que...</td>\n",
       "      <td>2018-06-18</td>\n",
       "      <td>cáncer</td>\n",
       "    </tr>\n",
       "    <tr>\n",
       "      <th>4</th>\n",
       "      <td>7</td>\n",
       "      <td>7</td>\n",
       "      <td>15573918.0</td>\n",
       "      <td>chile</td>\n",
       "      <td>emol</td>\n",
       "      <td>https://www.emol.com/noticias/Tecnologia/2018/...</td>\n",
       "      <td>Científicos creen que la diabetes podría ser u...</td>\n",
       "      <td>LONDRES.- Una reciente aparición de diabetes t...</td>\n",
       "      <td>2018-06-18</td>\n",
       "      <td>cáncer</td>\n",
       "    </tr>\n",
       "  </tbody>\n",
       "</table>\n",
       "</div>"
      ],
      "text/plain": [
       "   Unnamed: 0  Unnamed: 0.1     id_news country media_outlet  \\\n",
       "0           0             0   6379315.0   chile  elciudadano   \n",
       "1           3             3   1450993.0   chile  biobiochile   \n",
       "2           4             4   6415265.0   chile  elciudadano   \n",
       "3           6             6   6276346.0   chile    latercera   \n",
       "4           7             7  15573918.0   chile         emol   \n",
       "\n",
       "                                                 url  \\\n",
       "0  https://www.elciudadano.com/salud/1sintomas-de...   \n",
       "1  https://www.biobiochile.cl/noticias/2014/12/29...   \n",
       "2  https://www.elciudadano.com/salud/los-sintomas...   \n",
       "3  https://www.latercera.com/tendencias/noticia/c...   \n",
       "4  https://www.emol.com/noticias/Tecnologia/2018/...   \n",
       "\n",
       "                                               title  \\\n",
       "0  Síntomas del cáncer que la mayoría de personas...   \n",
       "1  12 señales de que podrías estar albergando un ...   \n",
       "2  Los síntomas físicos que te ayudan a detectar ...   \n",
       "3  Científicos revelan vínculo entre la diabetes ...   \n",
       "4  Científicos creen que la diabetes podría ser u...   \n",
       "\n",
       "                                                text        date  search  \n",
       "0  BBC Mundo ha recogido los  10 síntomas general...  2016-04-29  cáncer  \n",
       "1  El cáncer es un grupo de varias enfermedades, ...  2014-12-29  cáncer  \n",
       "2  Muchos hombres piensan erróneamente que los sí...  2015-09-15  cáncer  \n",
       "3  Una reciente aparición de diabetes tipo 2, que...  2018-06-18  cáncer  \n",
       "4  LONDRES.- Una reciente aparición de diabetes t...  2018-06-18  cáncer  "
      ]
     },
     "execution_count": 2,
     "metadata": {},
     "output_type": "execute_result"
    }
   ],
   "source": [
    "import pandas as pd\n",
    "df = pd.read_csv(dataset)\n",
    "df[:5]"
   ]
  },
  {
   "cell_type": "code",
   "execution_count": 3,
   "metadata": {},
   "outputs": [
    {
     "name": "stdout",
     "output_type": "stream",
     "text": [
      "Número de documentos: 7633\n"
     ]
    }
   ],
   "source": [
    "print(\"Número de documentos: \"+str(df.count()[0]))"
   ]
  },
  {
   "cell_type": "code",
   "execution_count": 4,
   "metadata": {},
   "outputs": [
    {
     "name": "stdout",
     "output_type": "stream",
     "text": [
      "Son 0 noticias duplicadas.\n"
     ]
    },
    {
     "data": {
      "text/html": [
       "<div>\n",
       "<style scoped>\n",
       "    .dataframe tbody tr th:only-of-type {\n",
       "        vertical-align: middle;\n",
       "    }\n",
       "\n",
       "    .dataframe tbody tr th {\n",
       "        vertical-align: top;\n",
       "    }\n",
       "\n",
       "    .dataframe thead th {\n",
       "        text-align: right;\n",
       "    }\n",
       "</style>\n",
       "<table border=\"1\" class=\"dataframe\">\n",
       "  <thead>\n",
       "    <tr style=\"text-align: right;\">\n",
       "      <th></th>\n",
       "      <th>Unnamed: 0</th>\n",
       "      <th>Unnamed: 0.1</th>\n",
       "      <th>id_news</th>\n",
       "      <th>country</th>\n",
       "      <th>media_outlet</th>\n",
       "      <th>url</th>\n",
       "      <th>title</th>\n",
       "      <th>text</th>\n",
       "      <th>date</th>\n",
       "      <th>search</th>\n",
       "    </tr>\n",
       "  </thead>\n",
       "  <tbody>\n",
       "  </tbody>\n",
       "</table>\n",
       "</div>"
      ],
      "text/plain": [
       "Empty DataFrame\n",
       "Columns: [Unnamed: 0, Unnamed: 0.1, id_news, country, media_outlet, url, title, text, date, search]\n",
       "Index: []"
      ]
     },
     "execution_count": 4,
     "metadata": {},
     "output_type": "execute_result"
    }
   ],
   "source": [
    "duplicated=df[df['url'].duplicated()]\n",
    "print(\"Son \"+str(len(duplicated))+\" noticias duplicadas.\")\n",
    "duplicated"
   ]
  },
  {
   "cell_type": "code",
   "execution_count": 5,
   "metadata": {},
   "outputs": [],
   "source": [
    "from pandasql import sqldf"
   ]
  },
  {
   "cell_type": "markdown",
   "metadata": {},
   "source": [
    "- ¿Cuáles son los medios y su número de noticias?"
   ]
  },
  {
   "cell_type": "code",
   "execution_count": 6,
   "metadata": {},
   "outputs": [
    {
     "data": {
      "text/html": [
       "<div>\n",
       "<style scoped>\n",
       "    .dataframe tbody tr th:only-of-type {\n",
       "        vertical-align: middle;\n",
       "    }\n",
       "\n",
       "    .dataframe tbody tr th {\n",
       "        vertical-align: top;\n",
       "    }\n",
       "\n",
       "    .dataframe thead th {\n",
       "        text-align: right;\n",
       "    }\n",
       "</style>\n",
       "<table border=\"1\" class=\"dataframe\">\n",
       "  <thead>\n",
       "    <tr style=\"text-align: right;\">\n",
       "      <th></th>\n",
       "      <th>media_outlet</th>\n",
       "      <th>noticias</th>\n",
       "    </tr>\n",
       "  </thead>\n",
       "  <tbody>\n",
       "    <tr>\n",
       "      <th>0</th>\n",
       "      <td>ahoranoticiasmega</td>\n",
       "      <td>1994</td>\n",
       "    </tr>\n",
       "    <tr>\n",
       "      <th>1</th>\n",
       "      <td>elciudadano</td>\n",
       "      <td>1413</td>\n",
       "    </tr>\n",
       "    <tr>\n",
       "      <th>2</th>\n",
       "      <td>emol</td>\n",
       "      <td>1161</td>\n",
       "    </tr>\n",
       "    <tr>\n",
       "      <th>3</th>\n",
       "      <td>biobiochile</td>\n",
       "      <td>1107</td>\n",
       "    </tr>\n",
       "    <tr>\n",
       "      <th>4</th>\n",
       "      <td>latercera</td>\n",
       "      <td>1098</td>\n",
       "    </tr>\n",
       "    <tr>\n",
       "      <th>5</th>\n",
       "      <td>horas24</td>\n",
       "      <td>706</td>\n",
       "    </tr>\n",
       "    <tr>\n",
       "      <th>6</th>\n",
       "      <td>elmostrador</td>\n",
       "      <td>154</td>\n",
       "    </tr>\n",
       "  </tbody>\n",
       "</table>\n",
       "</div>"
      ],
      "text/plain": [
       "        media_outlet  noticias\n",
       "0  ahoranoticiasmega      1994\n",
       "1        elciudadano      1413\n",
       "2               emol      1161\n",
       "3        biobiochile      1107\n",
       "4          latercera      1098\n",
       "5            horas24       706\n",
       "6        elmostrador       154"
      ]
     },
     "execution_count": 6,
     "metadata": {},
     "output_type": "execute_result"
    }
   ],
   "source": [
    "query=\"\"\"SELECT media_outlet,count(*) as noticias\n",
    "FROM df GROUP BY media_outlet ORDER BY noticias DESC;\"\"\"\n",
    "result=sqldf(query)\n",
    "result"
   ]
  },
  {
   "cell_type": "markdown",
   "metadata": {},
   "source": [
    "- ¿Cómo se distribuyen las noticias en el tiempo?"
   ]
  },
  {
   "cell_type": "code",
   "execution_count": 7,
   "metadata": {},
   "outputs": [
    {
     "data": {
      "text/html": [
       "<div>\n",
       "<style scoped>\n",
       "    .dataframe tbody tr th:only-of-type {\n",
       "        vertical-align: middle;\n",
       "    }\n",
       "\n",
       "    .dataframe tbody tr th {\n",
       "        vertical-align: top;\n",
       "    }\n",
       "\n",
       "    .dataframe thead th {\n",
       "        text-align: right;\n",
       "    }\n",
       "</style>\n",
       "<table border=\"1\" class=\"dataframe\">\n",
       "  <thead>\n",
       "    <tr style=\"text-align: right;\">\n",
       "      <th></th>\n",
       "      <th>year</th>\n",
       "      <th>documents</th>\n",
       "    </tr>\n",
       "  </thead>\n",
       "  <tbody>\n",
       "    <tr>\n",
       "      <th>0</th>\n",
       "      <td>2010</td>\n",
       "      <td>52</td>\n",
       "    </tr>\n",
       "    <tr>\n",
       "      <th>1</th>\n",
       "      <td>2011</td>\n",
       "      <td>104</td>\n",
       "    </tr>\n",
       "    <tr>\n",
       "      <th>2</th>\n",
       "      <td>2012</td>\n",
       "      <td>210</td>\n",
       "    </tr>\n",
       "    <tr>\n",
       "      <th>3</th>\n",
       "      <td>2013</td>\n",
       "      <td>339</td>\n",
       "    </tr>\n",
       "    <tr>\n",
       "      <th>4</th>\n",
       "      <td>2014</td>\n",
       "      <td>406</td>\n",
       "    </tr>\n",
       "    <tr>\n",
       "      <th>5</th>\n",
       "      <td>2015</td>\n",
       "      <td>750</td>\n",
       "    </tr>\n",
       "    <tr>\n",
       "      <th>6</th>\n",
       "      <td>2016</td>\n",
       "      <td>834</td>\n",
       "    </tr>\n",
       "    <tr>\n",
       "      <th>7</th>\n",
       "      <td>2017</td>\n",
       "      <td>963</td>\n",
       "    </tr>\n",
       "    <tr>\n",
       "      <th>8</th>\n",
       "      <td>2018</td>\n",
       "      <td>1254</td>\n",
       "    </tr>\n",
       "    <tr>\n",
       "      <th>9</th>\n",
       "      <td>2019</td>\n",
       "      <td>1393</td>\n",
       "    </tr>\n",
       "    <tr>\n",
       "      <th>10</th>\n",
       "      <td>2020</td>\n",
       "      <td>1328</td>\n",
       "    </tr>\n",
       "  </tbody>\n",
       "</table>\n",
       "</div>"
      ],
      "text/plain": [
       "    year  documents\n",
       "0   2010         52\n",
       "1   2011        104\n",
       "2   2012        210\n",
       "3   2013        339\n",
       "4   2014        406\n",
       "5   2015        750\n",
       "6   2016        834\n",
       "7   2017        963\n",
       "8   2018       1254\n",
       "9   2019       1393\n",
       "10  2020       1328"
      ]
     },
     "execution_count": 7,
     "metadata": {},
     "output_type": "execute_result"
    }
   ],
   "source": [
    "#Contar el número de documentos por año\n",
    "\n",
    "query=\"\"\"SELECT strftime('%Y', date) as year,count(*) as documents\n",
    "FROM df GROUP BY year;\"\"\"\n",
    "result=sqldf(query)\n",
    "result"
   ]
  },
  {
   "cell_type": "markdown",
   "metadata": {},
   "source": [
    "Construiremos un dataset con 10 trozos de 150 noticias (2010-11, 2012, 2013, 2014, ..., 2020)."
   ]
  },
  {
   "cell_type": "markdown",
   "metadata": {},
   "source": [
    "## 3. Construir un dataset con sus distintos trozos"
   ]
  },
  {
   "cell_type": "code",
   "execution_count": 8,
   "metadata": {},
   "outputs": [],
   "source": [
    "years = [\"2020\",\"2019\",\"2018\",\"2017\",\"2016\",\"2015\",\"2014\",\"2013\",\"2012\"]\n",
    "\n",
    "df_list=[]\n",
    "\n",
    "for year in years:\n",
    "    query=\"SELECT * FROM df WHERE strftime('%Y', date) = \\\"\"+year+\"\\\";\"\n",
    "    result=sqldf(query)\n",
    "    result=result.sample(n = 150)\n",
    "    df_list.append(result)\n",
    "    \n",
    "\n",
    "query=\"SELECT * FROM df WHERE strftime('%Y', date) = \\\"2011\\\" OR strftime('%Y', date) = \\\"2010\\\";\"\n",
    "result=sqldf(query)\n",
    "result=result.sample(n = 150)\n",
    "df_list.append(result)\n",
    "\n",
    "df_final=pd.concat(df_list)"
   ]
  },
  {
   "cell_type": "code",
   "execution_count": 9,
   "metadata": {},
   "outputs": [],
   "source": [
    "query=\"SELECT * FROM df_final ORDER BY date ASC;\"\n",
    "result=sqldf(query)\n",
    "df=result"
   ]
  },
  {
   "cell_type": "code",
   "execution_count": 10,
   "metadata": {},
   "outputs": [
    {
     "data": {
      "text/html": [
       "<div>\n",
       "<style scoped>\n",
       "    .dataframe tbody tr th:only-of-type {\n",
       "        vertical-align: middle;\n",
       "    }\n",
       "\n",
       "    .dataframe tbody tr th {\n",
       "        vertical-align: top;\n",
       "    }\n",
       "\n",
       "    .dataframe thead th {\n",
       "        text-align: right;\n",
       "    }\n",
       "</style>\n",
       "<table border=\"1\" class=\"dataframe\">\n",
       "  <thead>\n",
       "    <tr style=\"text-align: right;\">\n",
       "      <th></th>\n",
       "      <th>year</th>\n",
       "      <th>documents</th>\n",
       "    </tr>\n",
       "  </thead>\n",
       "  <tbody>\n",
       "    <tr>\n",
       "      <th>0</th>\n",
       "      <td>2010</td>\n",
       "      <td>49</td>\n",
       "    </tr>\n",
       "    <tr>\n",
       "      <th>1</th>\n",
       "      <td>2011</td>\n",
       "      <td>101</td>\n",
       "    </tr>\n",
       "    <tr>\n",
       "      <th>2</th>\n",
       "      <td>2012</td>\n",
       "      <td>150</td>\n",
       "    </tr>\n",
       "    <tr>\n",
       "      <th>3</th>\n",
       "      <td>2013</td>\n",
       "      <td>150</td>\n",
       "    </tr>\n",
       "    <tr>\n",
       "      <th>4</th>\n",
       "      <td>2014</td>\n",
       "      <td>150</td>\n",
       "    </tr>\n",
       "    <tr>\n",
       "      <th>5</th>\n",
       "      <td>2015</td>\n",
       "      <td>150</td>\n",
       "    </tr>\n",
       "    <tr>\n",
       "      <th>6</th>\n",
       "      <td>2016</td>\n",
       "      <td>150</td>\n",
       "    </tr>\n",
       "    <tr>\n",
       "      <th>7</th>\n",
       "      <td>2017</td>\n",
       "      <td>150</td>\n",
       "    </tr>\n",
       "    <tr>\n",
       "      <th>8</th>\n",
       "      <td>2018</td>\n",
       "      <td>150</td>\n",
       "    </tr>\n",
       "    <tr>\n",
       "      <th>9</th>\n",
       "      <td>2019</td>\n",
       "      <td>150</td>\n",
       "    </tr>\n",
       "    <tr>\n",
       "      <th>10</th>\n",
       "      <td>2020</td>\n",
       "      <td>150</td>\n",
       "    </tr>\n",
       "  </tbody>\n",
       "</table>\n",
       "</div>"
      ],
      "text/plain": [
       "    year  documents\n",
       "0   2010         49\n",
       "1   2011        101\n",
       "2   2012        150\n",
       "3   2013        150\n",
       "4   2014        150\n",
       "5   2015        150\n",
       "6   2016        150\n",
       "7   2017        150\n",
       "8   2018        150\n",
       "9   2019        150\n",
       "10  2020        150"
      ]
     },
     "execution_count": 10,
     "metadata": {},
     "output_type": "execute_result"
    }
   ],
   "source": [
    "#Contar el número de documentos por año\n",
    "\n",
    "query=\"\"\"SELECT strftime('%Y', date) as year,count(*) as documents\n",
    "FROM df GROUP BY year;\"\"\"\n",
    "result=sqldf(query)\n",
    "result"
   ]
  },
  {
   "cell_type": "markdown",
   "metadata": {},
   "source": [
    "- Para identificar los _slices_, conservamos el número de documentos por cada segmento:"
   ]
  },
  {
   "cell_type": "code",
   "execution_count": 11,
   "metadata": {},
   "outputs": [],
   "source": [
    "index_slices=[150,150,150,150,150,150,150,150,150,150]"
   ]
  },
  {
   "cell_type": "markdown",
   "metadata": {},
   "source": [
    "## 4. Preprocesamientos de las noticias"
   ]
  },
  {
   "cell_type": "code",
   "execution_count": 12,
   "metadata": {},
   "outputs": [],
   "source": [
    "import spacy\n",
    "nlp = spacy.load('es_core_news_md', disable=['parser','ner','textcat','...'] )"
   ]
  },
  {
   "cell_type": "code",
   "execution_count": 13,
   "metadata": {},
   "outputs": [],
   "source": [
    "from spacy.matcher import Matcher\n",
    "matcher = Matcher(nlp.vocab)\n",
    "\n",
    "pattern_1 = [{\"POS\": \"NOUN\"},{\"LOWER\": \"de\"}, {\"POS\": \"NOUN\"}]\n",
    "matcher.add(\"NOUN-de-NOUN\", [pattern_1])\n",
    "\n",
    "pattern_2 = [{\"POS\": \"NOUN\"}, {\"POS\": \"ADJ\"}]\n",
    "matcher.add(\"NOUN-ADJ\", [pattern_2])"
   ]
  },
  {
   "cell_type": "code",
   "execution_count": 14,
   "metadata": {},
   "outputs": [],
   "source": [
    "def getKeywords(dataFrame,columnName):\n",
    "    \n",
    "    for index,rows in dataFrame.iterrows():\n",
    "        \n",
    "        text=rows[columnName]\n",
    "        \n",
    "        filteredText=\"\"\n",
    "        \n",
    "        tokens = nlp(text)\n",
    "        \n",
    "        for token in tokens:\n",
    "            if token.pos_ == \"NOUN\" :\n",
    "                filteredText=filteredText+\",\"+str(token.text.lower().strip())\n",
    "                \n",
    "        matches = matcher(tokens)\n",
    "        for mach_id, start, end in matches:\n",
    "            span = tokens[start:end]\n",
    "            filteredText=filteredText+\",\"+str(span.text.lower().strip())\n",
    "                \n",
    "        dataFrame.loc[index,'keywords']=filteredText"
   ]
  },
  {
   "cell_type": "code",
   "execution_count": 15,
   "metadata": {},
   "outputs": [
    {
     "name": "stdout",
     "output_type": "stream",
     "text": [
      "CPU times: user 46.6 s, sys: 776 ms, total: 47.3 s\n",
      "Wall time: 47.6 s\n"
     ]
    }
   ],
   "source": [
    "%%time\n",
    "getKeywords(df,\"text\")"
   ]
  },
  {
   "cell_type": "code",
   "execution_count": 16,
   "metadata": {},
   "outputs": [
    {
     "data": {
      "text/plain": [
       "1500"
      ]
     },
     "execution_count": 16,
     "metadata": {},
     "output_type": "execute_result"
    }
   ],
   "source": [
    "len(df)"
   ]
  },
  {
   "cell_type": "code",
   "execution_count": 17,
   "metadata": {},
   "outputs": [
    {
     "data": {
      "text/plain": [
       "',gobierno,tercio,reservas,costo,millones,euros,diputado,millones,dosis,gripe,laboratorios,tercio,mundo,presiones,laboratorios,lunes,diputado,partido,gobernante,tercio,farmacias,vacunas,diputado,radio,julio,presión,laboratorios,tiempo,principio,precaución,extremo,profesor,medicina,costo,adquisición,déficit,hospitales,veces,plan,lucha,cáncer,millones,dosis,gripe,mes,julio,millones,euros,millones,dólares,ministerio,reventa,vacunas,dosis,vacuna,autoridades,galas,compra,parte,transnacionales,fabricación,medicinas,agosto,industria,ganancia,millones,dólares,domingo,gobierno,países,reservas,vacunas,virus,gripe,carga,factura,pandemia,anuncio,reventa,medicinas,laboratorio,división,vacunas,grupo,domingo,disposición,demanda,renegociación,contrato,compra,dosis,vacunas,gobierno,julio,despliegue,cabo,pandemia,miedo,compras,dosis,parte,aval,agencia,medicamentos,virus,vez,finales,marzo,fines,diciembre,muertes,mundo,país,cifras,chancho,gobierno galo,reservas mundiales,millones de euros,diputado francés,millones de dosis,partido de gobernante,radio privada,principio absurdo,precaución llevado,hospitales franceses,millones de dosis,mes de julio,millones de euros,millones de dólares,ministerio francés,dosis de vacuna,autoridades sanitarias,fabricación de medicinas,medicinas diferentes,industria farmacéutica,millones de dólares,gobierno francés,reservas de vacunas,pandemia mundial,división de vacunas,demanda de renegociación,contrato de compra,compra de dosis,dosis de vacunas,gobierno francés,julio pasado,despliegue llevado,dosis de parte,agencia europea,finales de marzo,fines de diciembre'"
      ]
     },
     "execution_count": 17,
     "metadata": {},
     "output_type": "execute_result"
    }
   ],
   "source": [
    "df[\"keywords\"][0]"
   ]
  },
  {
   "cell_type": "markdown",
   "metadata": {},
   "source": [
    "- Utilizaremos la columna \"keywords\" como simplificación de los documentos."
   ]
  },
  {
   "cell_type": "code",
   "execution_count": 18,
   "metadata": {},
   "outputs": [],
   "source": [
    "from gensim.models import TfidfModel\n",
    "from gensim.corpora import Dictionary\n",
    "\n",
    "documents=list(df['keywords'])\n",
    "documents=[x.split(\",\") for x in documents]\n",
    "\n",
    "dictionary = Dictionary(documents)\n",
    "\n",
    "#dictionary.filter_extremes(no_below=0,no_above=0.99)\n",
    "\n",
    "dictionary.filter_n_most_frequent(1)\n",
    "\n",
    "corpus = [dictionary.doc2bow(doc) for doc in documents] \n",
    "\n",
    "model = TfidfModel(corpus)\n",
    "\n",
    "vectorizedCorpus = model[corpus]"
   ]
  },
  {
   "cell_type": "markdown",
   "metadata": {},
   "source": [
    "## 5. Optimización de modelos de tópicos dinámicos"
   ]
  },
  {
   "cell_type": "markdown",
   "metadata": {},
   "source": [
    "Entrenamos modelos con k_topics entre 5 y 12, y guardamos los modelos en archivos."
   ]
  },
  {
   "cell_type": "code",
   "execution_count": 19,
   "metadata": {},
   "outputs": [],
   "source": [
    "DTM_models=[]"
   ]
  },
  {
   "cell_type": "code",
   "execution_count": null,
   "metadata": {},
   "outputs": [
    {
     "name": "stdout",
     "output_type": "stream",
     "text": [
      "0\n"
     ]
    },
    {
     "name": "stderr",
     "output_type": "stream",
     "text": [
      "/home/mvernier/.local/lib/python3.8/site-packages/gensim/models/ldaseqmodel.py:297: RuntimeWarning: divide by zero encountered in double_scalars\n",
      "  convergence = np.fabs((bound - old_bound) / old_bound)\n"
     ]
    },
    {
     "name": "stdout",
     "output_type": "stream",
     "text": [
      "5 Topics - Tiempo necesario para la optimización del modelo: 3308.4403603076935\n",
      "/home/mvernier/Documentos/trabajo/docencia/2021/DOCCOM/model_5_topics\n",
      "1\n"
     ]
    },
    {
     "name": "stderr",
     "output_type": "stream",
     "text": [
      "/home/mvernier/.local/lib/python3.8/site-packages/gensim/models/ldaseqmodel.py:297: RuntimeWarning: divide by zero encountered in double_scalars\n",
      "  convergence = np.fabs((bound - old_bound) / old_bound)\n"
     ]
    },
    {
     "name": "stdout",
     "output_type": "stream",
     "text": [
      "6 Topics - Tiempo necesario para la optimización del modelo: 3674.914176464081\n",
      "/home/mvernier/Documentos/trabajo/docencia/2021/DOCCOM/model_6_topics\n",
      "2\n"
     ]
    },
    {
     "name": "stderr",
     "output_type": "stream",
     "text": [
      "/home/mvernier/.local/lib/python3.8/site-packages/gensim/models/ldaseqmodel.py:297: RuntimeWarning: divide by zero encountered in double_scalars\n",
      "  convergence = np.fabs((bound - old_bound) / old_bound)\n"
     ]
    },
    {
     "name": "stdout",
     "output_type": "stream",
     "text": [
      "7 Topics - Tiempo necesario para la optimización del modelo: 4791.860530138016\n",
      "/home/mvernier/Documentos/trabajo/docencia/2021/DOCCOM/model_7_topics\n",
      "3\n"
     ]
    },
    {
     "name": "stderr",
     "output_type": "stream",
     "text": [
      "/home/mvernier/.local/lib/python3.8/site-packages/gensim/models/ldaseqmodel.py:297: RuntimeWarning: divide by zero encountered in double_scalars\n",
      "  convergence = np.fabs((bound - old_bound) / old_bound)\n"
     ]
    }
   ],
   "source": [
    "%%time\n",
    "from IPython.display import Audio\n",
    "import numpy as np\n",
    "\n",
    "from gensim.models import ldaseqmodel\n",
    "from gensim.corpora import Dictionary, bleicorpus\n",
    "from gensim.matutils import hellinger\n",
    "from gensim.models.coherencemodel import CoherenceModel\n",
    "from gensim.test.utils import common_corpus\n",
    "from gensim.test.utils import datapath\n",
    "\n",
    "import time\n",
    "\n",
    "k_topics=5\n",
    "\n",
    "for i in range(8):\n",
    "    print(i)\n",
    "    init=time.time()\n",
    "\n",
    "    s=time.time()\n",
    "\n",
    "    ldaseq = ldaseqmodel.LdaSeqModel(corpus=corpus, id2word=dictionary, time_slice=index_slices, \n",
    "                                 num_topics=k_topics+i,\n",
    "                                 chain_variance=0.3,\n",
    "                                 alphas=0.9,\n",
    "                                 passes=10,\n",
    "                                 chunksize=24000,\n",
    "                                 em_min_iter=6,\n",
    "                                 em_max_iter=15)\n",
    "\n",
    "    DTM_models.append(ldaseq)\n",
    "\n",
    "    e=time.time()\n",
    "    print(str(k_topics+i)+\" Topics - Tiempo necesario para la optimización del modelo:\",(e-s))\n",
    "\n",
    "    end=time.time()\n",
    "    #print(end-init)\n",
    "    \n",
    "    #se guarda el modelo\n",
    "    path_of_model = datapath(\"/home/mvernier/Documentos/trabajo/docencia/2021/DOCCOM/\"+\"model_\"+str(k_topics+i)+\"_topics\")\n",
    "    print(path_of_model)\n",
    "    ldaseq.save(path_of_model)"
   ]
  },
  {
   "cell_type": "markdown",
   "metadata": {},
   "source": [
    "# 4. Evaluación de los modelos"
   ]
  },
  {
   "cell_type": "code",
   "execution_count": 116,
   "metadata": {},
   "outputs": [],
   "source": [
    "from gensim.models import ldaseqmodel\n",
    "from gensim.corpora import Dictionary, bleicorpus\n",
    "from gensim.matutils import hellinger\n",
    "from gensim.models.coherencemodel import CoherenceModel\n",
    "from gensim.test.utils import common_corpus\n",
    "from gensim.test.utils import datapath\n",
    "\n",
    "PATH=\"/home/mvernier/Documentos/trabajo/docencia/2021/INFO279_2021/Fundamentos/DTM/models/\"\n",
    "\n",
    "from gensim.models import LdaSeqModel\n",
    "\n",
    "k_topics=5\n",
    "\n",
    "model_coherences=list()\n",
    "\n",
    "for i in range(8):\n",
    "    path_of_model = datapath(PATH+\"model_\"+str(k_topics+i)+\"_topics\")\n",
    "    ldaseq = LdaSeqModel.load(path_of_model)\n",
    "    \n",
    "    coherenceValues=list()\n",
    "    for time_fragment in range(5):\n",
    "        topics_wrapper = ldaseq.dtm_coherence(time=time_fragment)\n",
    "        cm_wrapper_cv = CoherenceModel(topics=topics_wrapper, texts=documents, dictionary=dictionary, coherence='c_v')\n",
    "        coherenceValues.append(cm_wrapper_cv.get_coherence())\n",
    "    \n",
    "    averageCoherenceValue = sum(coherenceValues) / len(coherenceValues) \n",
    "    model_coherences.append(averageCoherenceValue)"
   ]
  },
  {
   "cell_type": "code",
   "execution_count": 117,
   "metadata": {},
   "outputs": [
    {
     "data": {
      "text/plain": [
       "[0.37128090529668584,\n",
       " 0.3345500833622054,\n",
       " 0.32682282447305094,\n",
       " 0.3450158735297677,\n",
       " 0.33810605082096123,\n",
       " 0.3222411148702362,\n",
       " 0.34669298829613354,\n",
       " 0.3505168102397341]"
      ]
     },
     "execution_count": 117,
     "metadata": {},
     "output_type": "execute_result"
    }
   ],
   "source": [
    "model_coherences"
   ]
  },
  {
   "cell_type": "code",
   "execution_count": 118,
   "metadata": {},
   "outputs": [
    {
     "data": {
      "image/png": "[encoded data removed]",
      "text/plain": [
       "<Figure size 1728x864 with 1 Axes>"
      ]
     },
     "metadata": {
      "needs_background": "light"
     },
     "output_type": "display_data"
    }
   ],
   "source": [
    "# libraries and data\n",
    "import matplotlib.pyplot as plt\n",
    "import numpy as np\n",
    "\n",
    "xvalues=[\"5\",\"6\",\"7\",\"8\",\"9\",\"10\",\"11\",\"12\"]\n",
    "\n",
    "df_fig1=pd.DataFrame({'xvalues': xvalues, 'yvalues': model_coherences })\n",
    "\n",
    "fig, ax = plt.subplots()\n",
    "\n",
    "plt.plot( 'xvalues', 'yvalues', data=df_fig1)\n",
    "ax.set_xlabel('Modelo con K tópicos')\n",
    "ax.set_ylabel('Puntaje de Coherencia')\n",
    "plt.show()"
   ]
  },
  {
   "cell_type": "code",
   "execution_count": 119,
   "metadata": {},
   "outputs": [],
   "source": [
    "path_of_model = datapath(PATH+\"model_\"+str(5)+\"_topics\")\n",
    "ldaseq = LdaSeqModel.load(path_of_model)"
   ]
  },
  {
   "cell_type": "markdown",
   "metadata": {},
   "source": [
    "# 5. Análisis de la evolución del discurso"
   ]
  },
  {
   "cell_type": "markdown",
   "metadata": {},
   "source": [
    "#### 5.1 Tópicos"
   ]
  },
  {
   "cell_type": "code",
   "execution_count": 144,
   "metadata": {},
   "outputs": [],
   "source": [
    "table=[]\n",
    "for i in range(5):\n",
    "    row=[\"slice \"+str(i)]\n",
    "    keywords=ldaseq.print_topic(topic=4,time=i,top_terms=35)\n",
    "    for keyword in keywords:\n",
    "        row.append(str(keyword[0])+\", \"+str(round(keyword[1],3)))\n",
    "    table.append(row)"
   ]
  },
  {
   "cell_type": "code",
   "execution_count": 145,
   "metadata": {},
   "outputs": [],
   "source": [
    "#!pip install tabulate"
   ]
  },
  {
   "cell_type": "code",
   "execution_count": 146,
   "metadata": {},
   "outputs": [
    {
     "data": {
      "text/html": [
       "<table>\n",
       "<tbody>\n",
       "<tr><td>slice 0</td><td>año, 0.012 </td><td>personas, 0.008 </td><td>acuerdo, 0.008  </td><td>contra, 0.008  </td><td>través, 0.007     </td><td>años, 0.007    </td><td>información, 0.006</td><td>casa, 0.006        </td><td>país, 0.005     </td><td>hechos, 0.005     </td><td>parte, 0.005      </td><td>embargo, 0.005    </td><td>día, 0.005               </td><td>medidas, 0.005 </td><td>meses, 0.004     </td><td>respecto, 0.004     </td><td>ministro, 0.004</td><td>orden, 0.004      </td><td>ataques, 0.004 </td><td>víctima, 0.004</td><td>antecedentes, 0.004 </td><td>declaraciones, 0.004</td><td>comuna, 0.004       </td><td>política, 0.004     </td><td>sector, 0.004      </td><td>medicamentos, 0.003</td><td>forma, 0.003     </td><td>frente, 0.003            </td><td>vez, 0.003         </td><td>días, 0.003    </td><td>fiscal, 0.003   </td><td>seguridad, 0.003</td><td>delitos, 0.003  </td><td>relación, 0.003    </td><td>caso, 0.003  </td></tr>\n",
       "<tr><td>slice 1</td><td>año, 0.013 </td><td>través, 0.011   </td><td>personas, 0.007 </td><td>país, 0.007    </td><td>mercado, 0.006    </td><td>acuerdo, 0.006 </td><td>años, 0.006       </td><td>medicamentos, 0.006</td><td>orden, 0.006    </td><td>forma, 0.006      </td><td>contra, 0.006     </td><td>casa, 0.005       </td><td>día, 0.005               </td><td>ministro, 0.005</td><td>medidas, 0.005   </td><td>orden público, 0.004</td><td>política, 0.004</td><td>información, 0.004</td><td>vez, 0.004     </td><td>frente, 0.004 </td><td>declaraciones, 0.004</td><td>caso, 0.004         </td><td>embargo, 0.004      </td><td>relación, 0.004     </td><td>días, 0.004        </td><td>parte, 0.004       </td><td>seguridad, 0.003 </td><td>documentos, 0.003        </td><td>respecto, 0.003    </td><td>justicia, 0.003</td><td>necesidad, 0.003</td><td>ataques, 0.003  </td><td>precio, 0.003   </td><td>antecedentes, 0.003</td><td>meses, 0.003 </td></tr>\n",
       "<tr><td>slice 2</td><td>año, 0.016 </td><td>país, 0.011     </td><td>través, 0.008   </td><td>personas, 0.006</td><td>ministro, 0.006   </td><td>ley, 0.006     </td><td>orden, 0.006      </td><td>años, 0.005        </td><td>situación, 0.005</td><td>medidas, 0.005    </td><td>información, 0.005</td><td>forma, 0.005      </td><td>gabinete, 0.005          </td><td>embargo, 0.005 </td><td>parte, 0.005     </td><td>democracia, 0.004   </td><td>respecto, 0.004</td><td>días, 0.004       </td><td>proyecto, 0.004</td><td>acuerdo, 0.004</td><td>declaraciones, 0.004</td><td>seguridad, 0.004    </td><td>orden público, 0.004</td><td>vez, 0.004          </td><td>hechos, 0.003      </td><td>justicia, 0.003    </td><td>transporte, 0.003</td><td>cambio de gabinete, 0.003</td><td>caso, 0.003        </td><td>momento, 0.003 </td><td>mercado, 0.003  </td><td>respeto, 0.003  </td><td>día, 0.003      </td><td>política, 0.003    </td><td>frente, 0.003</td></tr>\n",
       "<tr><td>slice 3</td><td>país, 0.016</td><td>situación, 0.013</td><td>medidas, 0.009  </td><td>días, 0.008    </td><td>año, 0.008        </td><td>gabinete, 0.007</td><td>años, 0.007       </td><td>personas, 0.006    </td><td>ministro, 0.006 </td><td>forma, 0.005      </td><td>respecto, 0.005   </td><td>información, 0.005</td><td>cambio de gabinete, 0.004</td><td>través, 0.004  </td><td>transporte, 0.004</td><td>niños, 0.004        </td><td>acuerdo, 0.004 </td><td>ley, 0.004        </td><td>parte, 0.004   </td><td>orden, 0.003  </td><td>embargo, 0.003      </td><td>mercado, 0.003      </td><td>hechos, 0.003       </td><td>declaraciones, 0.003</td><td>medicamentos, 0.003</td><td>seguridad, 0.003   </td><td>proyecto, 0.003  </td><td>clases, 0.003            </td><td>vida, 0.003        </td><td>medio, 0.003   </td><td>cambio, 0.003   </td><td>frente, 0.003   </td><td>justicia, 0.003 </td><td>palabras, 0.003    </td><td>caso, 0.003  </td></tr>\n",
       "<tr><td>slice 4</td><td>país, 0.009</td><td>año, 0.009      </td><td>situación, 0.008</td><td>niños, 0.008   </td><td>información, 0.007</td><td>personas, 0.007</td><td>forma, 0.005      </td><td>acuerdo, 0.005     </td><td>respecto, 0.005 </td><td>medicamento, 0.005</td><td>días, 0.004       </td><td>años, 0.004       </td><td>medidas, 0.004           </td><td>precios, 0.004 </td><td>inversión, 0.004 </td><td>través, 0.004       </td><td>ley, 0.003     </td><td>lugar, 0.003      </td><td>abogado, 0.003 </td><td>países, 0.003 </td><td>proyecto, 0.003     </td><td>representante, 0.003</td><td>vida, 0.003         </td><td>justicia, 0.003     </td><td>mercado, 0.003     </td><td>sistema, 0.003     </td><td>adopción, 0.003  </td><td>cáncer, 0.003            </td><td>medicamentos, 0.003</td><td>parte, 0.003   </td><td>colegios, 0.003 </td><td>campaña, 0.003  </td><td>episodios, 0.003</td><td>proyectos, 0.003   </td><td>matriz, 0.003</td></tr>\n",
       "</tbody>\n",
       "</table>"
      ],
      "text/plain": [
       "<IPython.core.display.HTML object>"
      ]
     },
     "metadata": {},
     "output_type": "display_data"
    }
   ],
   "source": [
    "from IPython.display import HTML, display\n",
    "import tabulate\n",
    "\n",
    "display(HTML(tabulate.tabulate(table, tablefmt='html')))"
   ]
  },
  {
   "cell_type": "markdown",
   "metadata": {},
   "source": [
    "#### Visualizar la evolución de ciertas palabras en un tópico dado"
   ]
  },
  {
   "cell_type": "code",
   "execution_count": 147,
   "metadata": {},
   "outputs": [
    {
     "name": "stdout",
     "output_type": "stream",
     "text": [
      "('medidas', 0.004593412784264601)\n",
      "('medidas', 0.004552822006717053)\n",
      "('medidas', 0.005382439332577652)\n",
      "('medidas', 0.009274493409711624)\n",
      "('medidas', 0.004229819390998495)\n"
     ]
    }
   ],
   "source": [
    "keyword=\"medidas\"\n",
    "topic=4\n",
    "xvalues1=[\"slice 0\",\"slice 1\",\"slice 2\", \"slice 3\", \"slice 4\"]\n",
    "yvalues1=[]\n",
    "\n",
    "for i in range(5):\n",
    "    keywords=ldaseq.print_topic(topic,time=i,top_terms=1000)\n",
    "    for k in keywords:\n",
    "        newValue=0\n",
    "        if (k[0] == keyword):\n",
    "            newValue=k[1]\n",
    "            print(k)\n",
    "            break\n",
    "    yvalues1.append(newValue)"
   ]
  },
  {
   "cell_type": "code",
   "execution_count": 148,
   "metadata": {},
   "outputs": [
    {
     "name": "stdout",
     "output_type": "stream",
     "text": [
      "('abogados', 0.00015021210145213385)\n",
      "('abogados', 0.00014936987358750992)\n",
      "('abogados', 0.00015102157851952855)\n",
      "('abogados', 0.00015402135388002092)\n",
      "('abogados', 0.00015796389005822185)\n"
     ]
    }
   ],
   "source": [
    "keyword=\"abogados\"\n",
    "topic=4\n",
    "xvalues2=[\"slice 0\",\"slice 1\",\"slice 2\", \"slice 3\", \"slice 4\"]\n",
    "yvalues2=[]\n",
    "\n",
    "for i in range(5):\n",
    "    keywords=ldaseq.print_topic(topic,time=i,top_terms=1000)\n",
    "    for k in keywords:\n",
    "        newValue=0\n",
    "        if (k[0] == keyword):\n",
    "            newValue=k[1]\n",
    "            print(k)\n",
    "            break\n",
    "    yvalues2.append(newValue)"
   ]
  },
  {
   "cell_type": "code",
   "execution_count": 138,
   "metadata": {},
   "outputs": [
    {
     "name": "stdout",
     "output_type": "stream",
     "text": [
      "('crisis', 0.0036741838012108647)\n",
      "('crisis', 0.0038426068398892442)\n",
      "('crisis', 0.0060718629298637155)\n",
      "('crisis', 0.003475097734297697)\n",
      "('crisis', 0.0019707818788194365)\n"
     ]
    }
   ],
   "source": [
    "keyword=\"crisis\"\n",
    "topic=3\n",
    "xvalues4=[\"slice 0\",\"slice 1\",\"slice 2\", \"slice 3\", \"slice 4\"]\n",
    "yvalues4=[]\n",
    "\n",
    "for i in range(5):\n",
    "    keywords=ldaseq.print_topic(topic,time=i,top_terms=1000)\n",
    "    for k in keywords:\n",
    "        newValue=0\n",
    "        if (k[0] == keyword):\n",
    "            newValue=k[1]\n",
    "            print(k)\n",
    "            break\n",
    "    yvalues4.append(newValue)"
   ]
  },
  {
   "cell_type": "code",
   "execution_count": 139,
   "metadata": {},
   "outputs": [
    {
     "name": "stdout",
     "output_type": "stream",
     "text": [
      "('proyecto', 0.00725566997119499)\n",
      "('proyecto', 0.00580592381881694)\n",
      "('proyecto', 0.004781042032067798)\n",
      "('proyecto', 0.004989277635593654)\n",
      "('proyecto', 0.006973609771627351)\n"
     ]
    }
   ],
   "source": [
    "keyword=\"proyecto\"\n",
    "topic=3\n",
    "xvalues5=[\"slice 0\",\"slice 1\",\"slice 2\", \"slice 3\", \"slice 4\"]\n",
    "yvalues5=[]\n",
    "\n",
    "for i in range(5):\n",
    "    keywords=ldaseq.print_topic(topic,time=i,top_terms=1000)\n",
    "    for k in keywords:\n",
    "        newValue=0\n",
    "        if (k[0] == keyword):\n",
    "            newValue=k[1]\n",
    "            print(k)\n",
    "            break\n",
    "    yvalues5.append(newValue)"
   ]
  },
  {
   "cell_type": "code",
   "execution_count": 149,
   "metadata": {},
   "outputs": [
    {
     "data": {
      "image/png": "[encoded data removed]",
      "text/plain": [
       "<Figure size 1728x864 with 1 Axes>"
      ]
     },
     "metadata": {
      "needs_background": "light"
     },
     "output_type": "display_data"
    }
   ],
   "source": [
    "# libraries and data\n",
    "import matplotlib.pyplot as plt\n",
    "import numpy as np\n",
    "\n",
    "fig, ax = plt.subplots()\n",
    "\n",
    "df=pd.DataFrame({'xvalues': xvalues1, 'yvalues': yvalues1 })\n",
    "plt.plot( 'xvalues', 'yvalues', data=df, label=\"medidas\")\n",
    "\n",
    "df=pd.DataFrame({'xvalues': xvalues2, 'yvalues': yvalues2 })\n",
    "plt.plot( 'xvalues', 'yvalues', data=df, label=\"abogados\")\n",
    "\n",
    "#df=pd.DataFrame({'xvalues': xvalues4, 'yvalues': yvalues4 })\n",
    "#plt.plot( 'xvalues', 'yvalues', data=df, label=\"crisis\")\n",
    "\n",
    "#df=pd.DataFrame({'xvalues': xvalues5, 'yvalues': yvalues5 })\n",
    "#plt.plot( 'xvalues', 'yvalues', data=df, label=\"proyecto\")\n",
    "\n",
    "ax.legend()\n",
    "plt.show()"
   ]
  },
  {
   "cell_type": "markdown",
   "metadata": {},
   "source": [
    "#### 5.2 Exploración de los tópicos"
   ]
  },
  {
   "cell_type": "code",
   "execution_count": 82,
   "metadata": {},
   "outputs": [],
   "source": [
    "table=[]\n",
    "for i in range(5):\n",
    "    row=[\"slice \"+str(i)]\n",
    "    keywords=ldaseq.print_topic(topic=1,time=i,top_terms=35)\n",
    "    for keyword in keywords:\n",
    "        row.append(str(keyword[0])+\", \"+str(round(keyword[1],3)))\n",
    "    table.append(row)"
   ]
  },
  {
   "cell_type": "code",
   "execution_count": 83,
   "metadata": {},
   "outputs": [
    {
     "data": {
      "text/html": [
       "<table>\n",
       "<tbody>\n",
       "<tr><td>slice 0</td><td>derechos, 0.018</td><td>humanos, 0.014      </td><td>personas, 0.011</td><td>informe, 0.008     </td><td>casos, 0.008          </td><td>uso, 0.008         </td><td>violaciones, 0.007 </td><td>caso, 0.007         </td><td>lugar, 0.007       </td><td>octubre, 0.006 </td><td>víctimas, 0.006     </td><td>años, 0.006         </td><td>manifestaciones, 0.005</td><td>violencia, 0.005</td><td>parte, 0.005          </td><td>información, 0.005</td><td>comuna, 0.005     </td><td>lesiones, 0.005 </td><td>investigación, 0.005</td><td>delitos, 0.004      </td><td>funcionarios, 0.004</td><td>respecto, 0.004 </td><td>incendio, 0.004       </td><td>momento, 0.004    </td><td>delito, 0.004 </td><td>manifestantes, 0.004</td><td>situación, 0.004  </td><td>vida, 0.003     </td><td>seguridad, 0.003  </td><td>homicidio, 0.003  </td><td>hechos, 0.003     </td><td>país, 0.003         </td><td>antecedentes, 0.003</td><td>acuerdo, 0.003  </td><td>acción, 0.003 </td></tr>\n",
       "<tr><td>slice 1</td><td>personas, 0.013</td><td>$, 0.009            </td><td>lugar, 0.007   </td><td>comuna, 0.007      </td><td>años, 0.007           </td><td>octubre, 0.007     </td><td>parte, 0.007       </td><td>investigación, 0.006</td><td>funcionarios, 0.006</td><td>derechos, 0.006</td><td>personal, 0.005     </td><td>momento, 0.005      </td><td>antecedentes, 0.005   </td><td>caso, 0.005     </td><td>manifestaciones, 0.005</td><td>uso, 0.005        </td><td>violaciones, 0.005</td><td>situación, 0.005</td><td>joven, 0.005        </td><td>manifestantes, 0.005</td><td>incendio, 0.004    </td><td>muerte, 0.004   </td><td>casos, 0.004          </td><td>información, 0.004</td><td>hecho, 0.004  </td><td>humanos, 0.004      </td><td>perdigones, 0.004 </td><td>hechos, 0.004   </td><td>embargo, 0.004    </td><td>acuerdo, 0.004    </td><td>carabineros, 0.003</td><td>manifestación, 0.003</td><td>calle, 0.003       </td><td>violencia, 0.003</td><td>vida, 0.003   </td></tr>\n",
       "<tr><td>slice 2</td><td>personas, 0.016</td><td>parte, 0.008        </td><td>octubre, 0.008 </td><td>derechos, 0.007    </td><td>manifestaciones, 0.007</td><td>funcionarios, 0.007</td><td>años, 0.006        </td><td>información, 0.006  </td><td>carabineros, 0.006 </td><td>hecho, 0.005   </td><td>situación, 0.005    </td><td>investigación, 0.005</td><td>antecedentes, 0.005   </td><td>hechos, 0.005   </td><td>delito, 0.005         </td><td>delitos, 0.005    </td><td>joven, 0.004      </td><td>familia, 0.004  </td><td>comuna, 0.004       </td><td>respecto, 0.004     </td><td>caso, 0.004        </td><td>violencia, 0.004</td><td>fiscal, 0.004         </td><td>casos, 0.004      </td><td>acuerdo, 0.004</td><td>interior, 0.004     </td><td>autoridades, 0.004</td><td>denuncias, 0.004</td><td>violaciones, 0.004</td><td>momento, 0.004    </td><td>querellas, 0.004  </td><td>acciones, 0.004     </td><td>país, 0.004        </td><td>calle, 0.003    </td><td>balines, 0.003</td></tr>\n",
       "<tr><td>slice 3</td><td>personas, 0.017</td><td>años, 0.011         </td><td>parte, 0.008   </td><td>funcionarios, 0.007</td><td>vida, 0.007           </td><td>derechos, 0.007    </td><td>respecto, 0.006    </td><td>antecedentes, 0.006 </td><td>hecho, 0.005       </td><td>hechos, 0.005  </td><td>investigación, 0.005</td><td>comuna, 0.005       </td><td>denuncias, 0.005      </td><td>lesiones, 0.004 </td><td>información, 0.004    </td><td>fiscal, 0.004     </td><td>momento, 0.004    </td><td>delitos, 0.004  </td><td>violencia, 0.004    </td><td>autoridades, 0.004  </td><td>caso, 0.004        </td><td>delito, 0.004   </td><td>manifestaciones, 0.004</td><td>situación, 0.004  </td><td>acuerdo, 0.004</td><td>octubre, 0.004      </td><td>familia, 0.004    </td><td>uso, 0.004      </td><td>personal, 0.004   </td><td>persona, 0.004    </td><td>cuenta, 0.004     </td><td>organismo, 0.003    </td><td>embargo, 0.003     </td><td>días, 0.003     </td><td>horas, 0.003  </td></tr>\n",
       "<tr><td>slice 4</td><td>años, 0.013    </td><td>investigación, 0.013</td><td>familia, 0.011 </td><td>fiscal, 0.01       </td><td>delito, 0.01          </td><td>parte, 0.008       </td><td>antecedentes, 0.008</td><td>hecho, 0.007        </td><td>delitos, 0.007     </td><td>trabajo, 0.007 </td><td>cuenta, 0.006       </td><td>víctima, 0.006      </td><td>personas, 0.006       </td><td>respecto, 0.005 </td><td>obesidad, 0.005       </td><td>momento, 0.005    </td><td>víctimas, 0.005   </td><td>contra, 0.005   </td><td>homicidio, 0.005    </td><td>casa, 0.005         </td><td>comuna, 0.005      </td><td>casos, 0.005    </td><td>lesiones, 0.004       </td><td>vehículo, 0.004   </td><td>caso, 0.004   </td><td>justicia, 0.004     </td><td>vida, 0.004       </td><td>padre, 0.004    </td><td>violencia, 0.004  </td><td>información, 0.004</td><td>policía, 0.004    </td><td>horas, 0.004        </td><td>autoridades, 0.004 </td><td>bala, 0.004     </td><td>embargo, 0.004</td></tr>\n",
       "</tbody>\n",
       "</table>"
      ],
      "text/plain": [
       "<IPython.core.display.HTML object>"
      ]
     },
     "metadata": {},
     "output_type": "display_data"
    }
   ],
   "source": [
    "from IPython.display import HTML, display\n",
    "import tabulate\n",
    "\n",
    "display(HTML(tabulate.tabulate(table, tablefmt='html')))"
   ]
  },
  {
   "cell_type": "code",
   "execution_count": 84,
   "metadata": {},
   "outputs": [
    {
     "name": "stdout",
     "output_type": "stream",
     "text": [
      "('perdigones', 0.001920706736095383)\n",
      "('perdigones', 0.0036628701676456286)\n",
      "('perdigones', 0.0034167390845980337)\n",
      "('perdigones', 0.001431523359435553)\n",
      "('perdigones', 0.0009550357847753437)\n"
     ]
    }
   ],
   "source": [
    "keyword=\"perdigones\"\n",
    "topic=1\n",
    "xvalues1=[\"slice 0\",\"slice 1\",\"slice 2\", \"slice 3\", \"slice 4\"]\n",
    "yvalues1=[]\n",
    "\n",
    "for i in range(5):\n",
    "    keywords=ldaseq.print_topic(topic=1,time=i,top_terms=1000)\n",
    "    for k in keywords:\n",
    "        newValue=0\n",
    "        if (k[0] == keyword):\n",
    "            newValue=k[1]\n",
    "            print(k)\n",
    "            break\n",
    "    yvalues1.append(newValue)"
   ]
  },
  {
   "cell_type": "code",
   "execution_count": 85,
   "metadata": {},
   "outputs": [
    {
     "data": {
      "image/png": "[encoded data removed]",
      "text/plain": [
       "<Figure size 1728x864 with 1 Axes>"
      ]
     },
     "metadata": {
      "needs_background": "light"
     },
     "output_type": "display_data"
    }
   ],
   "source": [
    "# libraries and data\n",
    "import matplotlib.pyplot as plt\n",
    "\n",
    "fig, ax = plt.subplots()\n",
    "\n",
    "df=pd.DataFrame({'xvalues': xvalues1, 'yvalues': yvalues1 })\n",
    "plt.plot( 'xvalues', 'yvalues', data=df, label=\"perdigones\")\n",
    "\n",
    "ax.legend()\n",
    "plt.show()"
   ]
  },
  {
   "cell_type": "code",
   "execution_count": null,
   "metadata": {},
   "outputs": [],
   "source": []
  }
 ],
 "metadata": {
  "kernelspec": {
   "display_name": "Python 3 (ipykernel)",
   "language": "python",
   "name": "python3"
  },
  "language_info": {
   "codemirror_mode": {
    "name": "ipython",
    "version": 3
   },
   "file_extension": ".py",
   "mimetype": "text/x-python",
   "name": "python",
   "nbconvert_exporter": "python",
   "pygments_lexer": "ipython3",
   "version": "3.8.10"
  }
 },
 "nbformat": 4,
 "nbformat_minor": 2
}
