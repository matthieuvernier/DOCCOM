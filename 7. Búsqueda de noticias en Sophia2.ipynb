{
 "cells": [
  {
   "cell_type": "markdown",
   "id": "4c90854f",
   "metadata": {},
   "source": [
    "# 7. Búsqueda en noticias en Sophia2\n"
   ]
  },
  {
   "cell_type": "markdown",
   "id": "b604154f",
   "metadata": {},
   "source": [
    "Este notebook muestra una manera de extraer noticias desde la base de datos Sophia2, a partir de una **palabra clave**, un **país** y un **periodo de tiempo**.\n",
    "\n",
    "_Disclaimer_: La base de datos Sophia2 se encuentra en fase de mejoramiento continuo. Por cualquier pregunta o problema técnico con este notebook, no dudar en contactarme mvernier@inf.uach.cl"
   ]
  },
  {
   "cell_type": "markdown",
   "id": "ce7b1d34",
   "metadata": {},
   "source": [
    "## 1. Definir los parámetros"
   ]
  },
  {
   "cell_type": "code",
   "execution_count": 1,
   "id": "3245eed6",
   "metadata": {},
   "outputs": [],
   "source": [
    "## SE PUEDE MODIFICAR LOS VALORES\n",
    "\n",
    "keyword=\"biodiversidad\"\n",
    "country=\"colombia\"\n",
    "from_=\"2018-01-01\" ##YYYY-MM-DD\n",
    "to_=\"2019-01-01\" ##YYYY-MM-DD"
   ]
  },
  {
   "cell_type": "markdown",
   "id": "b955a312",
   "metadata": {},
   "source": [
    "## 2. Realizar la búsqueda"
   ]
  },
  {
   "cell_type": "code",
   "execution_count": 2,
   "id": "c6efd170",
   "metadata": {},
   "outputs": [],
   "source": [
    "#NO MODIFICAR\n",
    "from datetime import datetime\n",
    "from elasticsearch import Elasticsearch\n",
    "\n",
    "IP = \"45.56.113.162\"\n",
    "PORT = 9200\n",
    "\n",
    "es = Elasticsearch(\n",
    "    IP,\n",
    "    port=PORT,\n",
    ")\n",
    "\n",
    "query = {\n",
    "  \"query\": { \n",
    "    \"bool\": { \n",
    "      \"must\": [\n",
    "        {\"match\": { \"text\":keyword}}\n",
    "        \n",
    "      ],\n",
    "    \"filter\": [\n",
    "        {\"range\": {\n",
    "      \"date\": {\n",
    "        \"gte\": from_,\n",
    "        \"lt\": to_\n",
    "      }}},\n",
    "        { \"term\":  { \"country\": country }} \n",
    "    ]\n",
    "    }\n",
    "  }\n",
    "}"
   ]
  },
  {
   "cell_type": "code",
   "execution_count": 3,
   "id": "2f2af534",
   "metadata": {},
   "outputs": [
    {
     "name": "stdout",
     "output_type": "stream",
     "text": [
      "Son 0 noticias encontradas...\n"
     ]
    }
   ],
   "source": [
    "## NO SE PUEDE DEVOLVER MAS DE 10.000 noticias. \n",
    "##En caso de obtener 10.000 noticias, se recomienda buscar en un periodo de tiempo más corto.\n",
    "\n",
    "res = es.search(index=\"news\", body=query, size=10000)\n",
    "print(\"Son %d noticias encontradas...\" % res['hits']['total']['value'])\n",
    "\n",
    "import pandas as pd\n",
    "\n",
    "data = {'id_news':[],'country':[],'media_outlet':[],'url':[],'title':[],'text':[],'date':[],'search':[]}\n",
    "\n",
    "df = pd.DataFrame(data)  \n",
    "  \n",
    "for hit in res['hits']['hits']:\n",
    "    id_news = hit['_source']['id_news']\n",
    "    country = hit['_source']['country']\n",
    "    media_outlet = hit['_source']['media_outlet']\n",
    "    url = hit['_source']['url']\n",
    "    title = hit['_source']['title']\n",
    "    text = hit['_source']['text']\n",
    "    date = hit['_source']['date']\n",
    "    search = keyword\n",
    "    \n",
    "    new_row = {'id_news':id_news, 'country':country, 'media_outlet':media_outlet, 'url':url, 'title':title, 'text':text, 'date':date, 'search':search}\n",
    "    \n",
    "    df = df.append(new_row, ignore_index=True)\n"
   ]
  },
  {
   "cell_type": "markdown",
   "id": "b341c934",
   "metadata": {},
   "source": [
    "## 3. Verificar si existen noticias duplicadas y eliminarlas"
   ]
  },
  {
   "cell_type": "markdown",
   "id": "73fecca9",
   "metadata": {},
   "source": [
    "- ¿Existen noticias duplicadas (con la misma URL) en los resultados?"
   ]
  },
  {
   "cell_type": "code",
   "execution_count": 51,
   "id": "0caf5276",
   "metadata": {},
   "outputs": [
    {
     "data": {
      "text/plain": [
       "True"
      ]
     },
     "execution_count": 51,
     "metadata": {},
     "output_type": "execute_result"
    }
   ],
   "source": [
    "df['url'].duplicated().any()"
   ]
  },
  {
   "cell_type": "markdown",
   "id": "4e4d697d",
   "metadata": {},
   "source": [
    "- ¿Cuáles son las noticias duplicadas?"
   ]
  },
  {
   "cell_type": "code",
   "execution_count": 52,
   "id": "b7f5a05d",
   "metadata": {},
   "outputs": [
    {
     "name": "stdout",
     "output_type": "stream",
     "text": [
      "Son 442 noticias duplicadas.\n"
     ]
    },
    {
     "data": {
      "text/html": [
       "<div>\n",
       "<style scoped>\n",
       "    .dataframe tbody tr th:only-of-type {\n",
       "        vertical-align: middle;\n",
       "    }\n",
       "\n",
       "    .dataframe tbody tr th {\n",
       "        vertical-align: top;\n",
       "    }\n",
       "\n",
       "    .dataframe thead th {\n",
       "        text-align: right;\n",
       "    }\n",
       "</style>\n",
       "<table border=\"1\" class=\"dataframe\">\n",
       "  <thead>\n",
       "    <tr style=\"text-align: right;\">\n",
       "      <th></th>\n",
       "      <th>id_news</th>\n",
       "      <th>country</th>\n",
       "      <th>media_outlet</th>\n",
       "      <th>url</th>\n",
       "      <th>title</th>\n",
       "      <th>text</th>\n",
       "      <th>date</th>\n",
       "      <th>search</th>\n",
       "    </tr>\n",
       "  </thead>\n",
       "  <tbody>\n",
       "    <tr>\n",
       "      <th>5</th>\n",
       "      <td>5306786.0</td>\n",
       "      <td>chile</td>\n",
       "      <td>elciudadano</td>\n",
       "      <td>https://www.elciudadano.com/medio-ambiente/pre...</td>\n",
       "      <td>Premio Nobel indio dice que el cambio climátic...</td>\n",
       "      <td>El científico indio Rajendra Pachauri, Nobel ...</td>\n",
       "      <td>2017-05-29</td>\n",
       "      <td>cambio climático</td>\n",
       "    </tr>\n",
       "    <tr>\n",
       "      <th>10</th>\n",
       "      <td>5294966.0</td>\n",
       "      <td>chile</td>\n",
       "      <td>elciudadano</td>\n",
       "      <td>https://www.elciudadano.com/medio-ambiente/bea...</td>\n",
       "      <td>Beatriz Sánchez advierte que Chile es “muy vul...</td>\n",
       "      <td>En el foro “El gran reto de Chile ante el camb...</td>\n",
       "      <td>2017-09-07</td>\n",
       "      <td>cambio climático</td>\n",
       "    </tr>\n",
       "    <tr>\n",
       "      <th>11</th>\n",
       "      <td>5295324.0</td>\n",
       "      <td>chile</td>\n",
       "      <td>elciudadano</td>\n",
       "      <td>https://www.elciudadano.com/medio-ambiente/bea...</td>\n",
       "      <td>Beatriz Sánchez advierte que Chile es “muy vul...</td>\n",
       "      <td>En el foro “El gran reto de Chile ante el camb...</td>\n",
       "      <td>2017-09-07</td>\n",
       "      <td>cambio climático</td>\n",
       "    </tr>\n",
       "    <tr>\n",
       "      <th>24</th>\n",
       "      <td>5295556.0</td>\n",
       "      <td>chile</td>\n",
       "      <td>elciudadano</td>\n",
       "      <td>https://www.elciudadano.com/medio-ambiente/est...</td>\n",
       "      <td>Estos son los países con mayores y menores pro...</td>\n",
       "      <td>Hace dos años, la Universidad de Notre Dame ...</td>\n",
       "      <td>2017-09-07</td>\n",
       "      <td>cambio climático</td>\n",
       "    </tr>\n",
       "    <tr>\n",
       "      <th>31</th>\n",
       "      <td>5305579.0</td>\n",
       "      <td>chile</td>\n",
       "      <td>elciudadano</td>\n",
       "      <td>https://www.elciudadano.com/medio-ambiente/gob...</td>\n",
       "      <td>Gobierno chileno manifiesta su “profunda decep...</td>\n",
       "      <td>Una «profunda decepción» manifestó el gobiern...</td>\n",
       "      <td>2017-06-01</td>\n",
       "      <td>cambio climático</td>\n",
       "    </tr>\n",
       "    <tr>\n",
       "      <th>...</th>\n",
       "      <td>...</td>\n",
       "      <td>...</td>\n",
       "      <td>...</td>\n",
       "      <td>...</td>\n",
       "      <td>...</td>\n",
       "      <td>...</td>\n",
       "      <td>...</td>\n",
       "      <td>...</td>\n",
       "    </tr>\n",
       "    <tr>\n",
       "      <th>6893</th>\n",
       "      <td>6000473.0</td>\n",
       "      <td>chile</td>\n",
       "      <td>elciudadano</td>\n",
       "      <td>https://www.elciudadano.com/justicia/el-genero...</td>\n",
       "      <td>El género de cada uno… ¿y qué?</td>\n",
       "      <td>A fines de abril el Ministerio de Educación ...</td>\n",
       "      <td>2017-07-08</td>\n",
       "      <td>cambio climático</td>\n",
       "    </tr>\n",
       "    <tr>\n",
       "      <th>6898</th>\n",
       "      <td>5314695.0</td>\n",
       "      <td>chile</td>\n",
       "      <td>elciudadano</td>\n",
       "      <td>https://www.elciudadano.com/medio-ambiente/pro...</td>\n",
       "      <td>Provincia Heilongjiang prohibió transgénicos: ...</td>\n",
       "      <td>Es tradición que en los países que celebran e...</td>\n",
       "      <td>2017-02-04</td>\n",
       "      <td>cambio climático</td>\n",
       "    </tr>\n",
       "    <tr>\n",
       "      <th>6904</th>\n",
       "      <td>4233462.0</td>\n",
       "      <td>chile</td>\n",
       "      <td>elciudadano</td>\n",
       "      <td>https://www.elciudadano.com/politica/la-difere...</td>\n",
       "      <td>La Diferencia entre MEO y Alejandro Navarro</td>\n",
       "      <td>Durante años los ciudadanos y ciudadanas de C...</td>\n",
       "      <td>2017-10-18</td>\n",
       "      <td>cambio climático</td>\n",
       "    </tr>\n",
       "    <tr>\n",
       "      <th>6916</th>\n",
       "      <td>6023000.0</td>\n",
       "      <td>chile</td>\n",
       "      <td>elciudadano</td>\n",
       "      <td>https://www.elciudadano.com/justicia/el-haitia...</td>\n",
       "      <td>El haitiano que planteó la igualdad de las raz...</td>\n",
       "      <td>Antenor Firmin publicó en 1885 su tratado De ...</td>\n",
       "      <td>2017-01-22</td>\n",
       "      <td>cambio climático</td>\n",
       "    </tr>\n",
       "    <tr>\n",
       "      <th>6920</th>\n",
       "      <td>6917359.0</td>\n",
       "      <td>chile</td>\n",
       "      <td>elciudadano</td>\n",
       "      <td>https://www.elciudadano.com/literatura-2/ccccu...</td>\n",
       "      <td>Cuentos Ciudadanos: ¿Has visto un dios morir? ...</td>\n",
       "      <td>Para nuestra segunda entrega de CUENTOS CIUDAD...</td>\n",
       "      <td>2017-02-07</td>\n",
       "      <td>cambio climático</td>\n",
       "    </tr>\n",
       "  </tbody>\n",
       "</table>\n",
       "<p>442 rows × 8 columns</p>\n",
       "</div>"
      ],
      "text/plain": [
       "        id_news country media_outlet  \\\n",
       "5     5306786.0   chile  elciudadano   \n",
       "10    5294966.0   chile  elciudadano   \n",
       "11    5295324.0   chile  elciudadano   \n",
       "24    5295556.0   chile  elciudadano   \n",
       "31    5305579.0   chile  elciudadano   \n",
       "...         ...     ...          ...   \n",
       "6893  6000473.0   chile  elciudadano   \n",
       "6898  5314695.0   chile  elciudadano   \n",
       "6904  4233462.0   chile  elciudadano   \n",
       "6916  6023000.0   chile  elciudadano   \n",
       "6920  6917359.0   chile  elciudadano   \n",
       "\n",
       "                                                    url  \\\n",
       "5     https://www.elciudadano.com/medio-ambiente/pre...   \n",
       "10    https://www.elciudadano.com/medio-ambiente/bea...   \n",
       "11    https://www.elciudadano.com/medio-ambiente/bea...   \n",
       "24    https://www.elciudadano.com/medio-ambiente/est...   \n",
       "31    https://www.elciudadano.com/medio-ambiente/gob...   \n",
       "...                                                 ...   \n",
       "6893  https://www.elciudadano.com/justicia/el-genero...   \n",
       "6898  https://www.elciudadano.com/medio-ambiente/pro...   \n",
       "6904  https://www.elciudadano.com/politica/la-difere...   \n",
       "6916  https://www.elciudadano.com/justicia/el-haitia...   \n",
       "6920  https://www.elciudadano.com/literatura-2/ccccu...   \n",
       "\n",
       "                                                  title  \\\n",
       "5     Premio Nobel indio dice que el cambio climátic...   \n",
       "10    Beatriz Sánchez advierte que Chile es “muy vul...   \n",
       "11    Beatriz Sánchez advierte que Chile es “muy vul...   \n",
       "24    Estos son los países con mayores y menores pro...   \n",
       "31    Gobierno chileno manifiesta su “profunda decep...   \n",
       "...                                                 ...   \n",
       "6893                     El género de cada uno… ¿y qué?   \n",
       "6898  Provincia Heilongjiang prohibió transgénicos: ...   \n",
       "6904        La Diferencia entre MEO y Alejandro Navarro   \n",
       "6916  El haitiano que planteó la igualdad de las raz...   \n",
       "6920  Cuentos Ciudadanos: ¿Has visto un dios morir? ...   \n",
       "\n",
       "                                                   text        date  \\\n",
       "5      El científico indio Rajendra Pachauri, Nobel ...  2017-05-29   \n",
       "10    En el foro “El gran reto de Chile ante el camb...  2017-09-07   \n",
       "11    En el foro “El gran reto de Chile ante el camb...  2017-09-07   \n",
       "24      Hace dos años, la Universidad de Notre Dame ...  2017-09-07   \n",
       "31     Una «profunda decepción» manifestó el gobiern...  2017-06-01   \n",
       "...                                                 ...         ...   \n",
       "6893    A fines de abril el Ministerio de Educación ...  2017-07-08   \n",
       "6898   Es tradición que en los países que celebran e...  2017-02-04   \n",
       "6904   Durante años los ciudadanos y ciudadanas de C...  2017-10-18   \n",
       "6916   Antenor Firmin publicó en 1885 su tratado De ...  2017-01-22   \n",
       "6920  Para nuestra segunda entrega de CUENTOS CIUDAD...  2017-02-07   \n",
       "\n",
       "                search  \n",
       "5     cambio climático  \n",
       "10    cambio climático  \n",
       "11    cambio climático  \n",
       "24    cambio climático  \n",
       "31    cambio climático  \n",
       "...                ...  \n",
       "6893  cambio climático  \n",
       "6898  cambio climático  \n",
       "6904  cambio climático  \n",
       "6916  cambio climático  \n",
       "6920  cambio climático  \n",
       "\n",
       "[442 rows x 8 columns]"
      ]
     },
     "execution_count": 52,
     "metadata": {},
     "output_type": "execute_result"
    }
   ],
   "source": [
    "duplicated=df[df['url'].duplicated()]\n",
    "print(\"Son \"+str(len(duplicated))+\" noticias duplicadas.\")\n",
    "duplicated"
   ]
  },
  {
   "cell_type": "markdown",
   "id": "e95f4da6",
   "metadata": {},
   "source": [
    "- Eliminar las noticias duplicadas"
   ]
  },
  {
   "cell_type": "code",
   "execution_count": 53,
   "id": "fa440bca",
   "metadata": {},
   "outputs": [],
   "source": [
    "df = df.drop_duplicates(subset='url', keep='first')"
   ]
  },
  {
   "cell_type": "markdown",
   "id": "7dc87fd9",
   "metadata": {},
   "source": [
    "- ¿Cuántas noticias quedan?"
   ]
  },
  {
   "cell_type": "code",
   "execution_count": 54,
   "id": "a34dfbdb",
   "metadata": {},
   "outputs": [
    {
     "name": "stdout",
     "output_type": "stream",
     "text": [
      "Quedan 6479 noticias...\n"
     ]
    }
   ],
   "source": [
    "print(\"Quedan \"+str(len(df))+\" noticias...\")"
   ]
  },
  {
   "cell_type": "markdown",
   "id": "ac4d0abb",
   "metadata": {},
   "source": [
    "## 4. Guardar las noticias en un CSV"
   ]
  },
  {
   "cell_type": "code",
   "execution_count": 55,
   "id": "af13989e",
   "metadata": {},
   "outputs": [
    {
     "name": "stdout",
     "output_type": "stream",
     "text": [
      "El archivo se llama:\n",
      "cambio climático_chile_2017-01-01_2018-01-01.csv\n"
     ]
    }
   ],
   "source": [
    "nombre_archivo=keyword+\"_\"+country+\"_\"+from_+\"_\"+to_+\".csv\"\n",
    "print(\"El archivo se llama:\")\n",
    "print(nombre_archivo)\n",
    "df.to_csv(\"./\"+nombre_archivo)"
   ]
  },
  {
   "cell_type": "markdown",
   "id": "85f84a55",
   "metadata": {},
   "source": [
    "## 5. Agrupar varios archivos CSV en un solo archivo "
   ]
  },
  {
   "cell_type": "code",
   "execution_count": 40,
   "id": "2dbf854b",
   "metadata": {},
   "outputs": [],
   "source": [
    "archivos_entrada = [\n",
    "    \"biodiversidad_mexico_2010-01-01_2021-01-01.csv\",\n",
    "    \"biodiversidad_colombia_2010-01-01_2021-01-01.csv\"\n",
    "]\n",
    "\n",
    "archivo_salida=\"biodiversidad_mexico_colombia.csv\"\n"
   ]
  },
  {
   "cell_type": "code",
   "execution_count": 41,
   "id": "6ba979ef",
   "metadata": {},
   "outputs": [
    {
     "name": "stdout",
     "output_type": "stream",
     "text": [
      "Se agrupó los archivos en el archivo biodiversidad_mexico_colombia.csv y se suprimó las noticias duplicadas.\n"
     ]
    }
   ],
   "source": [
    "## NO MODIFICAR\n",
    "df_list=[]\n",
    "\n",
    "for file in archivos_entrada:\n",
    "    df_file=pd.read_csv(file)\n",
    "    df_list.append(df_file)\n",
    "    \n",
    "df_final=pd.concat(df_list)\n",
    "df_final.drop_duplicates(subset='url', keep='first')\n",
    "df_final.to_csv(archivo_salida)\n",
    "\n",
    "print(\"Se agrupó los archivos en el archivo \"+archivo_salida+\" y se suprimió las noticias duplicadas.\")"
   ]
  }
 ],
 "metadata": {
  "kernelspec": {
   "display_name": "Python 3 (ipykernel)",
   "language": "python",
   "name": "python3"
  },
  "language_info": {
   "codemirror_mode": {
    "name": "ipython",
    "version": 3
   },
   "file_extension": ".py",
   "mimetype": "text/x-python",
   "name": "python",
   "nbconvert_exporter": "python",
   "pygments_lexer": "ipython3",
   "version": "3.8.10"
  }
 },
 "nbformat": 4,
 "nbformat_minor": 5
}
